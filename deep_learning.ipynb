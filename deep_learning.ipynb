{
  "nbformat": 4,
  "nbformat_minor": 0,
  "metadata": {
    "colab": {
      "provenance": []
    },
    "kernelspec": {
      "name": "python3",
      "display_name": "Python 3"
    },
    "language_info": {
      "name": "python"
    }
  },
  "cells": [
    {
      "cell_type": "code",
      "execution_count": 1,
      "metadata": {
        "id": "5cBHwqPLiIJS"
      },
      "outputs": [],
      "source": [
        "from torch import tensor\n",
        "from torch.nn import Linear,Parameter"
      ]
    },
    {
      "cell_type": "code",
      "source": [
        "w = tensor([[2.5]],requires_grad=True)\n",
        "b = tensor([90.0],requires_grad=True)\n",
        "lr = Linear(in_features=1,out_features=1,bias=True)\n",
        "lr.weight = Parameter(w)\n",
        "lr.bias = Parameter(b)\n",
        "x = tensor([[5.0]])\n",
        "y = lr(x)\n",
        "print(y)"
      ],
      "metadata": {
        "colab": {
          "base_uri": "https://localhost:8080/"
        },
        "id": "XbbQKYbVivaQ",
        "outputId": "520eabae-483a-473a-a9e3-9a6379692061"
      },
      "execution_count": 6,
      "outputs": [
        {
          "output_type": "stream",
          "name": "stdout",
          "text": [
            "tensor([[102.5000]], grad_fn=<AddmmBackward0>)\n"
          ]
        }
      ]
    },
    {
      "cell_type": "code",
      "source": [
        "x = tensor([[1.0,2.0,3.0]])\n",
        "lr = Linear(in_features=3,out_features=1,bias=True)\n",
        "y = lr(x)\n",
        "print(y)"
      ],
      "metadata": {
        "colab": {
          "base_uri": "https://localhost:8080/"
        },
        "id": "dCOUPyu2kUra",
        "outputId": "1e70e665-47bf-4cd2-c4e6-7778af40fef2"
      },
      "execution_count": 7,
      "outputs": [
        {
          "output_type": "stream",
          "name": "stdout",
          "text": [
            "tensor([[-0.4869]], grad_fn=<AddmmBackward0>)\n"
          ]
        }
      ]
    },
    {
      "cell_type": "code",
      "source": [
        "lr.state_dict()"
      ],
      "metadata": {
        "colab": {
          "base_uri": "https://localhost:8080/"
        },
        "id": "SBN5PJVtkvI6",
        "outputId": "28a97186-132d-4959-ecb9-8973f7e0d4be"
      },
      "execution_count": 8,
      "outputs": [
        {
          "output_type": "execute_result",
          "data": {
            "text/plain": [
              "OrderedDict([('weight', tensor([[ 0.5059, -0.5321,  0.0280]])),\n",
              "             ('bias', tensor([-0.0125]))])"
            ]
          },
          "metadata": {},
          "execution_count": 8
        }
      ]
    },
    {
      "cell_type": "code",
      "source": [
        "from torch.nn import ReLU\n",
        "relu = ReLU()"
      ],
      "metadata": {
        "id": "HQoKtjbpl1Fi"
      },
      "execution_count": 9,
      "outputs": []
    },
    {
      "cell_type": "code",
      "source": [
        "from re import L\n",
        "from torch.nn import Sequential\n",
        "deep_lr = Sequential(Linear(in_features=2,out_features=4,bias=True),ReLU(),Linear(in_features=4,out_features=3,bias=True),Linear(in_features=3,out_features=1,bias=True),ReLU())\n",
        "X = tensor([[1.0,2.0]])\n",
        "y = deep_lr(X)\n",
        "print(y)"
      ],
      "metadata": {
        "colab": {
          "base_uri": "https://localhost:8080/"
        },
        "id": "h12fScjRmBQP",
        "outputId": "61ad9b40-d597-455c-dbf6-4b95f0fecf6d"
      },
      "execution_count": 11,
      "outputs": [
        {
          "output_type": "stream",
          "name": "stdout",
          "text": [
            "tensor([[0.]], grad_fn=<ReluBackward0>)\n"
          ]
        }
      ]
    }
  ]
}